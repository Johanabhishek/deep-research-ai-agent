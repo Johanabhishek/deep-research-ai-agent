{
 "cells": [
  {
   "cell_type": "markdown",
   "id": "00d055b3",
   "metadata": {},
   "source": [
    "# 🧪 Tavily Research Agent - Prototype"
   ]
  },
  {
   "cell_type": "code",
   "execution_count": null,
   "id": "a3a2994e",
   "metadata": {},
   "outputs": [],
   "source": [
    "from langchain.tools.tavily_search import TavilySearchResults\n",
    "from langchain.agents import Tool\n",
    "from langchain.utilities import TavilyAPIWrapper"
   ]
  },
  {
   "cell_type": "code",
   "execution_count": null,
   "id": "899be51b",
   "metadata": {},
   "outputs": [],
   "source": [
    "# Setup Tavily\n",
    "api_key = 'your_api_key_here'\n",
    "tavily = TavilyAPIWrapper(api_key=api_key)\n",
    "tool = Tool(name='TavilySearch', func=tavily.run, description='Search online content')"
   ]
  },
  {
   "cell_type": "code",
   "execution_count": null,
   "id": "76e6f9bb",
   "metadata": {},
   "outputs": [],
   "source": [
    "# Run a search query\n",
    "query = 'Latest news on AI safety'\n",
    "results = tool.run(query)\n",
    "print(results)"
   ]
  }
 ],
 "metadata": {},
 "nbformat": 4,
 "nbformat_minor": 5
}